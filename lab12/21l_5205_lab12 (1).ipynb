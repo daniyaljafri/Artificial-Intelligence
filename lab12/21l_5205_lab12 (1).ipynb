{
  "nbformat": 4,
  "nbformat_minor": 0,
  "metadata": {
    "colab": {
      "provenance": []
    },
    "kernelspec": {
      "name": "python3",
      "display_name": "Python 3"
    },
    "language_info": {
      "name": "python"
    }
  },
  "cells": [
    {
      "cell_type": "code",
      "execution_count": 2,
      "metadata": {
        "colab": {
          "base_uri": "https://localhost:8080/"
        },
        "id": "dYG5TJePvXWk",
        "outputId": "5cb39f7c-46e5-43da-a649-7cd55253c208"
      },
      "outputs": [
        {
          "output_type": "stream",
          "name": "stdout",
          "text": [
            "Clusters: {1: [(1, 2), (2, 3), (2, 4), (3, 5)], 2: [(8, 7), (9, 6)], -1: [(7, 3)]}\n"
          ]
        }
      ],
      "source": [
        "class DBSCAN:\n",
        "    def __init__(self, eps, min_samples):\n",
        "        self.eps = eps\n",
        "        self.min_samples = min_samples\n",
        "\n",
        "    def _euclidean_distance(self, a, b):\n",
        "        return ((a[0] - b[0]) ** 2 + (a[1] - b[1]) ** 2) ** 0.5\n",
        "\n",
        "    def _region_query(self, point):\n",
        "        neighbors = []\n",
        "        for i, neighbor in enumerate(self.points):\n",
        "            if self._euclidean_distance(point, neighbor) <= self.eps:\n",
        "                neighbors.append(i)\n",
        "        return neighbors\n",
        "\n",
        "    def _expand_cluster(self, point_index, neighbors, cluster_id):\n",
        "        self.labels[point_index] = cluster_id\n",
        "        i = 0\n",
        "        while i < len(neighbors):\n",
        "            neighbor_index = neighbors[i]\n",
        "            if self.labels[neighbor_index] == -1:\n",
        "                self.labels[neighbor_index] = cluster_id\n",
        "            elif self.labels[neighbor_index] == 0:\n",
        "                self.labels[neighbor_index] = cluster_id\n",
        "                neighbor_neighbors = self._region_query(self.points[neighbor_index])\n",
        "                if len(neighbor_neighbors) >= self.min_samples:\n",
        "                    neighbors += neighbor_neighbors\n",
        "            i += 1\n",
        "\n",
        "    def fit_predict(self, points):\n",
        "        self.points = points\n",
        "        self.labels = [0] * len(points)\n",
        "        cluster_id = 0\n",
        "        for i, point in enumerate(points):\n",
        "            if self.labels[i] == 0:\n",
        "                neighbors = self._region_query(point)\n",
        "                if len(neighbors) < self.min_samples:\n",
        "                    self.labels[i] = -1\n",
        "                else:\n",
        "                    cluster_id += 1\n",
        "                    self._expand_cluster(i, neighbors, cluster_id)\n",
        "        return self.labels\n",
        "\n",
        "# sample mainn\n",
        "if __name__ == \"__main__\":\n",
        "    # Sample data\n",
        "    points = [(1, 2), (2, 3), (2, 4), (3, 5), (8, 7), (9, 6), (7, 3)]\n",
        "\n",
        "    eps = 2\n",
        "    min_samples = 2\n",
        "    dbscan = DBSCAN(eps, min_samples)\n",
        "    labels = dbscan.fit_predict(points)\n",
        "\n",
        "    # Printing clusters\n",
        "    clusters = {}\n",
        "    for i, label in enumerate(labels):\n",
        "        if label in clusters:\n",
        "            clusters[label].append(points[i])\n",
        "        else:\n",
        "            clusters[label] = [points[i]]\n",
        "    print(\"Clusters:\", clusters)\n"
      ]
    }
  ]
}