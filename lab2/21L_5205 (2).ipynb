{
  "nbformat": 4,
  "nbformat_minor": 0,
  "metadata": {
    "colab": {
      "provenance": []
    },
    "kernelspec": {
      "name": "python3",
      "display_name": "Python 3"
    },
    "language_info": {
      "name": "python"
    }
  },
  "cells": [
    {
      "cell_type": "code",
      "execution_count": 3,
      "metadata": {
        "colab": {
          "base_uri": "https://localhost:8080/"
        },
        "id": "VvyEjA0aechI",
        "outputId": "18a959d8-bcb1-47cf-827b-550b8903d1d3"
      },
      "outputs": [
        {
          "output_type": "stream",
          "name": "stdout",
          "text": [
            "[0, 9, 36, 81]\n"
          ]
        }
      ],
      "source": [
        "list1 = [0, 1, 4, 9, 16, 25, 36, 49, 64, 81]\n",
        "new_arr=[n for n in list1 if n%3==0]\n",
        "print(new_arr)"
      ]
    },
    {
      "cell_type": "code",
      "source": [
        "str1=input(\"Enter string 1: \")\n",
        "while not len(str1)%2==0:\n",
        "  str1=input(\"Enter even string: \")\n",
        "str2=input(\"Enter string 2: \")\n",
        "while len(str2)%2==0:\n",
        "  str2=input(\"Enter odd string: \")\n",
        "\n",
        "len1=int(len(str1)/2)\n",
        "len2=int(len(str2)/2)\n",
        "f1=str1[0:len1]\n",
        "f2=str2[0:len2+1]\n",
        "b1=str1[len1:]\n",
        "b2=str2[len2+1:]\n",
        "string=f1+f2+b1+b2\n",
        "print(string)\n"
      ],
      "metadata": {
        "colab": {
          "base_uri": "https://localhost:8080/"
        },
        "id": "AwHoFroffsE7",
        "outputId": "ebeef3ce-e705-471d-f779-b035b6303f0f"
      },
      "execution_count": 18,
      "outputs": [
        {
          "output_type": "stream",
          "name": "stdout",
          "text": [
            "Enter string 1: mujykaya\n",
            "Enter string 2: meeto\n",
            "4 2\n",
            "mujymeekayato\n"
          ]
        }
      ]
    },
    {
      "cell_type": "code",
      "source": [
        "matrix = [[1,2,3],[4,5,6],[7,8,9]]\n",
        "transpose=[[row[i] for row in matrix] for i in range(len(matrix))]\n",
        "print(transpose)\n",
        "\n"
      ],
      "metadata": {
        "colab": {
          "base_uri": "https://localhost:8080/"
        },
        "id": "Hv-jpOZ-kHgK",
        "outputId": "ec350ceb-a2ec-4918-8527-b9ce904f5e70"
      },
      "execution_count": 26,
      "outputs": [
        {
          "output_type": "stream",
          "name": "stdout",
          "text": [
            "[[1, 4, 7], [2, 5, 8], [3, 6, 9]]\n"
          ]
        }
      ]
    },
    {
      "cell_type": "code",
      "source": [
        "list1 = (('a', 23), ('b', 37), ('c', 11), ('d', 29))\n",
        "sorttuple = sorted(list1, key=lambda x: x[1])\n",
        "print(sorttuple)"
      ],
      "metadata": {
        "colab": {
          "base_uri": "https://localhost:8080/"
        },
        "id": "d7Nnd7R3kHmY",
        "outputId": "646bb1d1-697c-4941-c53e-02dfb3f34bd5"
      },
      "execution_count": 33,
      "outputs": [
        {
          "output_type": "stream",
          "name": "stdout",
          "text": [
            "[('c', 11), ('a', 23), ('d', 29), ('b', 37)]\n"
          ]
        }
      ]
    },
    {
      "cell_type": "code",
      "source": [
        "t1=(1, 5, 7, 8, 10)\n",
        "t2=[t1[i]*t1[i+1] for i in range(len(t1)-1)]\n",
        "print(t2)\n"
      ],
      "metadata": {
        "colab": {
          "base_uri": "https://localhost:8080/"
        },
        "id": "dLWhcLLMiV-_",
        "outputId": "998eff9b-e386-4224-ffb1-70725a1a551b"
      },
      "execution_count": 37,
      "outputs": [
        {
          "output_type": "stream",
          "name": "stdout",
          "text": [
            "[5, 35, 56, 80]\n"
          ]
        }
      ]
    },
    {
      "cell_type": "code",
      "source": [
        "my_dict = {}\n",
        "counter=0\n",
        "list1=[2,4,6,8]\n",
        "for i in range(1,10):\n",
        "  for j in list1:\n",
        "    if(j%i==0):\n",
        "      counter+=1\n",
        "  my_dict[f'{i}'] = counter\n",
        "  counter=0\n",
        "print(my_dict)\n",
        "\n"
      ],
      "metadata": {
        "colab": {
          "base_uri": "https://localhost:8080/"
        },
        "id": "JdDmGG2ZsoSv",
        "outputId": "83c2b829-b03c-488a-e3ee-5723a85a4865"
      },
      "execution_count": 45,
      "outputs": [
        {
          "output_type": "stream",
          "name": "stdout",
          "text": [
            "{'1': 4, '2': 4, '3': 1, '4': 2, '5': 0, '6': 1, '7': 0, '8': 1, '9': 0}\n"
          ]
        }
      ]
    },
    {
      "cell_type": "code",
      "source": [
        "stocks = [\n",
        "    (\"25 Jan 2001\", 43.50, 25, \"CAT\", 92.45),\n",
        "    (\"25 Jan 2001\", 42.80, 50, \"DD\", 51.19),\n",
        "    (\"25 Jan 2001\", 42.10, 75, \"EK\", 34.87),\n",
        "    (\"25 Jan 2001\", 37.58, 100, \"GM\", 37.58)\n",
        "]\n",
        "\n",
        "def represent_stock_info(stocks):\n",
        "    stock_info = []\n",
        "    for stock in stocks:\n",
        "        stock_info.append(stock)\n",
        "    return stock_info\n",
        "\n",
        "def calculate_gain_loss(stocks):\n",
        "    total_gain_loss = {}\n",
        "    for stock in stocks:\n",
        "        purchase_date, purchase_price, shares, symbol, current_price = stock\n",
        "        total_purchase_value = purchase_price * shares\n",
        "        total_current_value = current_price * shares\n",
        "        gain_loss = total_current_value - total_purchase_value\n",
        "        total_gain_loss[symbol] = gain_loss\n",
        "    return total_gain_loss\n",
        "\n",
        "stock_info = represent_stock_info(stocks)\n",
        "print(\"Stock information:\")\n",
        "for stock in stock_info:\n",
        "    print(stock)\n",
        "\n",
        "\n",
        "gain_loss_info = calculate_gain_loss(stocks)\n",
        "print(\"\\nTotal gain/loss for each stock:\")\n",
        "for symbol, gain_loss in gain_loss_info.items():\n",
        "    print(f\"{symbol}: ${gain_loss:.2f}\")\n"
      ],
      "metadata": {
        "colab": {
          "base_uri": "https://localhost:8080/"
        },
        "id": "LM-YWxGWsoaY",
        "outputId": "089363f9-a511-49fd-9c06-fa8b81c47c6e"
      },
      "execution_count": 46,
      "outputs": [
        {
          "output_type": "stream",
          "name": "stdout",
          "text": [
            "Stock information:\n",
            "('25 Jan 2001', 43.5, 25, 'CAT', 92.45)\n",
            "('25 Jan 2001', 42.8, 50, 'DD', 51.19)\n",
            "('25 Jan 2001', 42.1, 75, 'EK', 34.87)\n",
            "('25 Jan 2001', 37.58, 100, 'GM', 37.58)\n",
            "\n",
            "Total gain/loss for each stock:\n",
            "CAT: $1223.75\n",
            "DD: $419.50\n",
            "EK: $-542.25\n",
            "GM: $0.00\n"
          ]
        }
      ]
    }
  ]
}