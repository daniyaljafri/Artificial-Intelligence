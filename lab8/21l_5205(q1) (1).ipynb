{
  "nbformat": 4,
  "nbformat_minor": 0,
  "metadata": {
    "colab": {
      "provenance": []
    },
    "kernelspec": {
      "name": "python3",
      "display_name": "Python 3"
    },
    "language_info": {
      "name": "python"
    }
  },
  "cells": [
    {
      "cell_type": "code",
      "source": [
        "class Perceptron:\n",
        "    def __init__(self, weights, bias):\n",
        "        self.weights = weights\n",
        "        self.bias = bias\n",
        "\n",
        "    def predict(self, inputs):\n",
        "        sum_result = sum(inputs[i] * self.weights[i] for i in range(len(inputs))) + self.bias\n",
        "        # Apply step function\n",
        "        return 1 if sum_result >= 0 else 0\n",
        "\n",
        "def test_gate(gate_name, gate_perceptron):\n",
        "    print(f\"{gate_name} Gate:\")\n",
        "    print(f\"0 {gate_name} 0: {gate_perceptron.predict([0, 0])}\")\n",
        "    print(f\"0 {gate_name} 1: {gate_perceptron.predict([0, 1])}\")\n",
        "    print(f\"1 {gate_name} 0: {gate_perceptron.predict([1, 0])}\")\n",
        "    print(f\"1 {gate_name} 1: {gate_perceptron.predict([1, 1])}\")\n",
        "\n",
        "def main():\n",
        "    and_weights = [0.5, 0.5]\n",
        "    and_bias = -0.8\n",
        "    and_perceptron = Perceptron(and_weights, and_bias)\n",
        "\n",
        "    or_weights = [0.5, 0.5]\n",
        "    or_bias = -0.3\n",
        "    or_perceptron = Perceptron(or_weights, or_bias)\n",
        "\n",
        "    test_gate(\"AND\", and_perceptron)\n",
        "    test_gate(\"OR\", or_perceptron)\n",
        "\n",
        "if __name__ == \"__main__\":\n",
        "    main()\n"
      ],
      "metadata": {
        "colab": {
          "base_uri": "https://localhost:8080/"
        },
        "id": "XuU3pu36XXUE",
        "outputId": "217b76ff-1024-44d2-9186-fdd139d68458"
      },
      "execution_count": 8,
      "outputs": [
        {
          "output_type": "stream",
          "name": "stdout",
          "text": [
            "AND Gate:\n",
            "0 AND 0: 0\n",
            "0 AND 1: 0\n",
            "1 AND 0: 0\n",
            "1 AND 1: 1\n",
            "OR Gate:\n",
            "0 OR 0: 0\n",
            "0 OR 1: 1\n",
            "1 OR 0: 1\n",
            "1 OR 1: 1\n"
          ]
        }
      ]
    }
  ]
}